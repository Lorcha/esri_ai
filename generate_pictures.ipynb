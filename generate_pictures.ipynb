{
 "cells": [
  {
   "cell_type": "code",
   "execution_count": 47,
   "metadata": {
    "collapsed": true
   },
   "outputs": [],
   "source": [
    "import numpy as np\n",
    "import matplotlib.pyplot as plt\n",
    "from numba import jit"
   ]
  },
  {
   "cell_type": "code",
   "execution_count": 48,
   "metadata": {
    "collapsed": true
   },
   "outputs": [],
   "source": [
    "# define functions manually, do not use numpy's poly1d funciton!\n",
    "@jit('complex64(complex64)', nopython=True)\n",
    "def f(z):\n",
    "    # z*z*z is faster than z**3\n",
    "    return z*z*z - 1\n",
    "\n",
    "\n",
    "@jit('complex64(complex64)', nopython=True)\n",
    "def df(z):\n",
    "    return 3*z*z\n",
    "\n",
    "\n",
    "@jit('float64(complex64)', nopython=True)\n",
    "def iterate(z):\n",
    "    num = 0\n",
    "    while abs(f(z)) > 1e-4:\n",
    "        w = z - f(z)/df(z)\n",
    "        num += np.exp(-1/abs(w-z))\n",
    "        z = w\n",
    "    return num\n",
    "\n",
    "\n",
    "def render(imgsize,wt,filename):\n",
    "    y, x = np.ogrid[1: -1: imgsize*1j, -1: 1: imgsize*1j]\n",
    "    z = x +y*1j*wt\n",
    "    img = np.frompyfunc(iterate, 1, 1)(z).astype(np.float)\n",
    "    fig = plt.figure(figsize=(imgsize/100.0, imgsize/100.0), dpi=100)\n",
    "    ax = fig.add_axes([0, 0, 1, 1], aspect=1)\n",
    "    ax.axis('off')\n",
    "    ax.imshow(img, cmap='hot')\n",
    "    fig.savefig(filename)\n"
   ]
  },
  {
   "cell_type": "code",
   "execution_count": 49,
   "metadata": {},
   "outputs": [
    {
     "name": "stderr",
     "output_type": "stream",
     "text": [
      "c:\\python\\lib\\site-packages\\matplotlib\\pyplot.py:524: RuntimeWarning: More than 20 figures have been opened. Figures created through the pyplot interface (`matplotlib.pyplot.figure`) are retained until explicitly closed and may consume too much memory. (To control this warning, see the rcParam `figure.max_open_warning`).\n",
      "  max_open_warning, RuntimeWarning)\n"
     ]
    }
   ],
   "source": [
    "for i in range (1, 50):\n",
    "    wt1 = i /10\n",
    "    filename1 = \"newton\" + str(i) + \".png\"\n",
    "    render(400, wt1, filename1)"
   ]
  }
 ],
 "metadata": {
  "kernelspec": {
   "display_name": "Python 3",
   "language": "python",
   "name": "python3"
  },
  "language_info": {
   "codemirror_mode": {
    "name": "ipython",
    "version": 3
   },
   "file_extension": ".py",
   "mimetype": "text/x-python",
   "name": "python",
   "nbconvert_exporter": "python",
   "pygments_lexer": "ipython3",
   "version": "3.5.3"
  }
 },
 "nbformat": 4,
 "nbformat_minor": 2
}
