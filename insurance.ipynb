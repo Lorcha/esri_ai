{
 "cells": [
  {
   "cell_type": "markdown",
   "metadata": {},
   "source": [
    "## Insurance Plus\n",
    "\n",
    "Insurance Plus is an insurance product targetting car owners who want to buy extra insurance for their car. The Insurance Plus is based on blockchain technology. It is different from conventional insurance products which usually require annual fee or payment in advance. With our Insurance Plus, everyone is being helped while helping others. There is no advanced payment and there is no annual fee. "
   ]
  },
  {
   "cell_type": "markdown",
   "metadata": {},
   "source": [
    "#### File a claim\n",
    "Members can file a claim to get support from the Insurance Plus after they have been paid by the insurance company for the damage to their cars. \n",
    "x_payment: The payment received for car damage.\n",
    "in_ratio: The ratio that our policy will decided to cover, value range 0-1\n",
    "f_risk_index: The risk index for the individual\n",
    "ave_payment: average payment for a individual\n",
    "tot_payment: \n"
   ]
  },
  {
   "cell_type": "code",
   "execution_count": 1,
   "metadata": {
    "collapsed": true
   },
   "outputs": [],
   "source": [
    "def j_pay_estimate(x_payment, in_ratio, f_risk_index, tot_payment, ave_tot_payment, max, tot_max):\n",
    "    if tot_payment> 3*ave_tot_payment:\n",
    "        viable_payment = x_payment*in_ratio*0.5\n",
    "    else:\n",
    "        viable_payment = x_payment*in_ratio\n",
    "    if viable_payment > max:\n",
    "        final_payment = max\n",
    "    else:\n",
    "        final_payment = viable_payment\n",
    "    return final_payment"
   ]
  },
  {
   "cell_type": "code",
   "execution_count": null,
   "metadata": {
    "collapsed": true
   },
   "outputs": [],
   "source": []
  }
 ],
 "metadata": {
  "kernelspec": {
   "display_name": "Python 3",
   "language": "python",
   "name": "python3"
  },
  "language_info": {
   "codemirror_mode": {
    "name": "ipython",
    "version": 3
   },
   "file_extension": ".py",
   "mimetype": "text/x-python",
   "name": "python",
   "nbconvert_exporter": "python",
   "pygments_lexer": "ipython3",
   "version": "3.5.3"
  }
 },
 "nbformat": 4,
 "nbformat_minor": 2
}
