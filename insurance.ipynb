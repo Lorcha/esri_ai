{
 "cells": [
  {
   "cell_type": "markdown",
   "metadata": {},
   "source": [
    "## Insurance Plus\n",
    "\n",
    "Insurance Plus is an insurance product targetting car owners who want to buy extra insurance for their car. The Insurance Plus is based on blockchain technology. It is different from conventional insurance products which usually require annual fee or payment in advance. With our Insurance Plus, everyone is being helped while helping others. There is no advanced payment and there is no annual fee. "
   ]
  },
  {
   "cell_type": "markdown",
   "metadata": {},
   "source": [
    "#### File a claim\n",
    "Members can file a claim to get support from the Insurance Plus after they have been paid by the insurance company for the damage to their cars. \n",
    "\n",
    "x_payment: The payment received for car damage.\n",
    "\n",
    "in_ratio: The ratio that our policy will decided to cover, value range 0-1\n",
    "\n",
    "f_risk_index: The risk index for the individual\n",
    "\n",
    "limit_ratio: a ratio to limit over payment for an individual\n",
    "  * If one time payment is higher than maximum value, or the year to date payment is higher than maximum year to date payment\n",
    "    This limit ratio is applied. The initial value for this limit ratio could be 0.5, this value will reduce ever time when it applied\n",
    "\n",
    "\n",
    "tot_payment: year to date payment\n",
    "\n",
    "ave_tot_payment: average year to date payment for all memembers\n",
    "\n",
    "max_tot_payment: maximum total payment for one person\n",
    "\n",
    "max: maximum payment for one time\n",
    "\n",
    "\n"
   ]
  },
  {
   "cell_type": "code",
   "execution_count": 1,
   "metadata": {
    "collapsed": true
   },
   "outputs": [],
   "source": [
    "def j_pay_estimate(x_payment, in_ratio, f_risk_index, limit_ratio, tot_payment, ave_tot_payment, max_tot_payment, max):\n",
    "    if tot_payment> 3*ave_tot_payment or tot_payment > max_tot_payment:\n",
    "        viable_payment = x_payment*in_ratio*limit_ratio\n",
    "    else:\n",
    "        viable_payment = x_payment*in_ratio\n",
    "    if viable_payment > max:\n",
    "        final_payment = max\n",
    "    else:\n",
    "        final_payment = viable_payment\n",
    "    return final_payment"
   ]
  },
  {
   "cell_type": "markdown",
   "metadata": {
    "collapsed": true
   },
   "source": [
    "#### Calculate in_ratio\n",
    "The algorithm is used to determine the cover portion. \n",
    "\n",
    "status_mem: statues of the memeber\n",
    " * New: New members, Level1: members who has supported others, Level2: members who has 1g data uploaded, Level3: members who has with us for a year....(there will other promotions options for upgrading levels, for example, share our app.....)\n",
    " * The maximum in_ratio = 0.15"
   ]
  },
  {
   "cell_type": "code",
   "execution_count": null,
   "metadata": {
    "collapsed": true
   },
   "outputs": [],
   "source": [
    "def calc_in_ratio(status_mem):\n",
    "    if status_mem = 0:\n",
    "        in_ratio = 0.05\n",
    "    elif status_mem > 0 and status_mem < 10:\n",
    "        in_ratio = 0.05 + status_mem*0.01\n",
    "    else:\n",
    "        in_ratio = 0.15\n",
    "\n",
    "    \n",
    "    \n",
    "        "
   ]
  },
  {
   "cell_type": "markdown",
   "metadata": {},
   "source": [
    "#### Calculate f_risk_index\n",
    "The algorithm is used to determine the cover portion. \n",
    "\n",
    " "
   ]
  },
  {
   "cell_type": "code",
   "execution_count": null,
   "metadata": {
    "collapsed": true
   },
   "outputs": [],
   "source": [
    "def cal_f_risk_index(inc_last_12_mon, inc_last_6_mon, inc_last_mon, inc_last_week, ago, gender, education, income_level, family, amount_last_claim, amount_12_month_claim, with_glass, years_driving, com_trip_length, com_trip_env, com_trip_type):\n",
    "    f_risk_index = w1*inc_last_12_mon + w2*inc_last_6_mon + \n",
    "    w3*inc_last_mon + w4*inc_last_week + w5*ago + w6*gender + \n",
    "    w7* education + w8*income_level + w9*family + w10 * amount_last_claim + \n",
    "    w11 * amount_12_month_claim + w12*with_glass + w13* years_driving + w14*com_trip_length + \n",
    "    w15*com_trip_env + w16*com_trip_type\n",
    "    return f_risk_index\n",
    "    "
   ]
  }
 ],
 "metadata": {
  "kernelspec": {
   "display_name": "Python 3",
   "language": "python",
   "name": "python3"
  },
  "language_info": {
   "codemirror_mode": {
    "name": "ipython",
    "version": 3
   },
   "file_extension": ".py",
   "mimetype": "text/x-python",
   "name": "python",
   "nbconvert_exporter": "python",
   "pygments_lexer": "ipython3",
   "version": "3.5.3"
  }
 },
 "nbformat": 4,
 "nbformat_minor": 2
}
