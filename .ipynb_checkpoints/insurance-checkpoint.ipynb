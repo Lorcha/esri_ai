{
 "cells": [
  {
   "cell_type": "code",
   "execution_count": 1,
   "metadata": {
    "collapsed": true
   },
   "outputs": [],
   "source": [
    "def pay_estimate(in_payment, in_ratio, f_risk_index, ave_payment, tot_payment, ave_tot_payment, max):\n",
    "    if tot_payment> 2*ave_tot_payment:\n",
    "        viable_payment = in_payment*in_ratio*0.5\n",
    "    else:\n",
    "        viable_payment = in_payment*in_ratio\n",
    "    if viable_payment > max:\n",
    "        final_payment = max\n",
    "    else:\n",
    "        final_payment = viable_payment\n",
    "    return final_payment"
   ]
  },
  {
   "cell_type": "code",
   "execution_count": null,
   "metadata": {
    "collapsed": true
   },
   "outputs": [],
   "source": []
  }
 ],
 "metadata": {
  "kernelspec": {
   "display_name": "Python 3",
   "language": "python",
   "name": "python3"
  },
  "language_info": {
   "codemirror_mode": {
    "name": "ipython",
    "version": 3
   },
   "file_extension": ".py",
   "mimetype": "text/x-python",
   "name": "python",
   "nbconvert_exporter": "python",
   "pygments_lexer": "ipython3",
   "version": "3.5.3"
  }
 },
 "nbformat": 4,
 "nbformat_minor": 2
}
